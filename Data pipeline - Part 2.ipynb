{
 "cells": [
  {
   "cell_type": "code",
   "execution_count": 1,
   "id": "cfb3724c",
   "metadata": {},
   "outputs": [],
   "source": [
    "import pandas as pd\n",
    "import numpy as np\n",
    "from sklearn.model_selection import StratifiedShuffleSplit\n",
    "from sklearn.base import BaseEstimator, TransformerMixin"
   ]
  },
  {
   "cell_type": "code",
   "execution_count": 2,
   "id": "473d3ff5",
   "metadata": {},
   "outputs": [
    {
     "data": {
      "text/plain": [
       "['.ipynb_checkpoints',\n",
       " 'Auto MPG - part 1.ipynb',\n",
       " 'auto-mpg.data',\n",
       " 'Data pipeline - Part 2.ipynb',\n",
       " 'data_preparation_part1']"
      ]
     },
     "execution_count": 2,
     "metadata": {},
     "output_type": "execute_result"
    }
   ],
   "source": [
    "import os \n",
    "os.listdir()"
   ]
  },
  {
   "cell_type": "code",
   "execution_count": 3,
   "id": "81e7e264",
   "metadata": {},
   "outputs": [],
   "source": [
    "col =['MPG','Cylinders','Displacement','Horsepower','Weight',\n",
    "                'Acceleration', 'Model Year', 'Origin'] \n",
    "\n",
    "df = pd.read_csv('auto-mpg.data', names = col,comment = '\\t', sep = ' ', skipinitialspace = True, na_values= '?')\n",
    "data = df.copy()"
   ]
  },
  {
   "cell_type": "markdown",
   "id": "da3d43a7",
   "metadata": {},
   "source": [
    "# Data Preparation using Sklearn"
   ]
  },
  {
   "cell_type": "code",
   "execution_count": 4,
   "id": "a3db4034",
   "metadata": {},
   "outputs": [
    {
     "data": {
      "text/html": [
       "<div>\n",
       "<style scoped>\n",
       "    .dataframe tbody tr th:only-of-type {\n",
       "        vertical-align: middle;\n",
       "    }\n",
       "\n",
       "    .dataframe tbody tr th {\n",
       "        vertical-align: top;\n",
       "    }\n",
       "\n",
       "    .dataframe thead th {\n",
       "        text-align: right;\n",
       "    }\n",
       "</style>\n",
       "<table border=\"1\" class=\"dataframe\">\n",
       "  <thead>\n",
       "    <tr style=\"text-align: right;\">\n",
       "      <th></th>\n",
       "      <th>MPG</th>\n",
       "      <th>Cylinders</th>\n",
       "      <th>Displacement</th>\n",
       "      <th>Horsepower</th>\n",
       "      <th>Weight</th>\n",
       "      <th>Acceleration</th>\n",
       "      <th>Model Year</th>\n",
       "      <th>Origin</th>\n",
       "    </tr>\n",
       "  </thead>\n",
       "  <tbody>\n",
       "    <tr>\n",
       "      <th>0</th>\n",
       "      <td>18.0</td>\n",
       "      <td>8</td>\n",
       "      <td>307.0</td>\n",
       "      <td>130.0</td>\n",
       "      <td>3504.0</td>\n",
       "      <td>12.0</td>\n",
       "      <td>70</td>\n",
       "      <td>1</td>\n",
       "    </tr>\n",
       "    <tr>\n",
       "      <th>1</th>\n",
       "      <td>15.0</td>\n",
       "      <td>8</td>\n",
       "      <td>350.0</td>\n",
       "      <td>165.0</td>\n",
       "      <td>3693.0</td>\n",
       "      <td>11.5</td>\n",
       "      <td>70</td>\n",
       "      <td>1</td>\n",
       "    </tr>\n",
       "    <tr>\n",
       "      <th>2</th>\n",
       "      <td>18.0</td>\n",
       "      <td>8</td>\n",
       "      <td>318.0</td>\n",
       "      <td>150.0</td>\n",
       "      <td>3436.0</td>\n",
       "      <td>11.0</td>\n",
       "      <td>70</td>\n",
       "      <td>1</td>\n",
       "    </tr>\n",
       "    <tr>\n",
       "      <th>3</th>\n",
       "      <td>16.0</td>\n",
       "      <td>8</td>\n",
       "      <td>304.0</td>\n",
       "      <td>150.0</td>\n",
       "      <td>3433.0</td>\n",
       "      <td>12.0</td>\n",
       "      <td>70</td>\n",
       "      <td>1</td>\n",
       "    </tr>\n",
       "    <tr>\n",
       "      <th>4</th>\n",
       "      <td>17.0</td>\n",
       "      <td>8</td>\n",
       "      <td>302.0</td>\n",
       "      <td>140.0</td>\n",
       "      <td>3449.0</td>\n",
       "      <td>10.5</td>\n",
       "      <td>70</td>\n",
       "      <td>1</td>\n",
       "    </tr>\n",
       "  </tbody>\n",
       "</table>\n",
       "</div>"
      ],
      "text/plain": [
       "    MPG  Cylinders  Displacement  Horsepower  Weight  Acceleration  \\\n",
       "0  18.0          8         307.0       130.0  3504.0          12.0   \n",
       "1  15.0          8         350.0       165.0  3693.0          11.5   \n",
       "2  18.0          8         318.0       150.0  3436.0          11.0   \n",
       "3  16.0          8         304.0       150.0  3433.0          12.0   \n",
       "4  17.0          8         302.0       140.0  3449.0          10.5   \n",
       "\n",
       "   Model Year  Origin  \n",
       "0          70       1  \n",
       "1          70       1  \n",
       "2          70       1  \n",
       "3          70       1  \n",
       "4          70       1  "
      ]
     },
     "execution_count": 4,
     "metadata": {},
     "output_type": "execute_result"
    }
   ],
   "source": [
    "data.head()"
   ]
  },
  {
   "cell_type": "markdown",
   "id": "a967d762",
   "metadata": {},
   "source": [
    "# Stratified Sampling — We create homogeneous subgroups called strata from the overall population and sample the right number of instances to each stratum to ensure that the test set is representative of the overall population."
   ]
  },
  {
   "cell_type": "code",
   "execution_count": 5,
   "id": "792eeec0",
   "metadata": {},
   "outputs": [
    {
     "data": {
      "text/plain": [
       "<generator object BaseShuffleSplit.split at 0x0000026D90C49C80>"
      ]
     },
     "execution_count": 5,
     "metadata": {},
     "output_type": "execute_result"
    }
   ],
   "source": [
    "strata = StratifiedShuffleSplit(n_splits= 1, test_size = 0.2, random_state=42)\n",
    "strata.split(data, data.Cylinders)"
   ]
  },
  {
   "cell_type": "code",
   "execution_count": 6,
   "id": "4ea9fd75",
   "metadata": {},
   "outputs": [],
   "source": [
    "for train_index, test_index in strata.split(data, data.Cylinders) :\n",
    "    train_set = data.loc[train_index]\n",
    "    test_set = data.loc[test_index]"
   ]
  },
  {
   "cell_type": "markdown",
   "id": "9db9d9f5",
   "metadata": {},
   "source": [
    "# Seperating features and target variables"
   ]
  },
  {
   "cell_type": "code",
   "execution_count": 7,
   "id": "836f206b",
   "metadata": {},
   "outputs": [],
   "source": [
    "data_features = train_set.drop(columns = 'MPG', axis = 1)\n",
    "data_target = train_set[['MPG']]"
   ]
  },
  {
   "cell_type": "markdown",
   "id": "6d274ec6",
   "metadata": {},
   "source": [
    "# 1. Method for pre_processing origin column in data"
   ]
  },
  {
   "cell_type": "code",
   "execution_count": 37,
   "id": "fc5482b1",
   "metadata": {},
   "outputs": [
    {
     "data": {
      "text/html": [
       "<div>\n",
       "<style scoped>\n",
       "    .dataframe tbody tr th:only-of-type {\n",
       "        vertical-align: middle;\n",
       "    }\n",
       "\n",
       "    .dataframe tbody tr th {\n",
       "        vertical-align: top;\n",
       "    }\n",
       "\n",
       "    .dataframe thead th {\n",
       "        text-align: right;\n",
       "    }\n",
       "</style>\n",
       "<table border=\"1\" class=\"dataframe\">\n",
       "  <thead>\n",
       "    <tr style=\"text-align: right;\">\n",
       "      <th></th>\n",
       "      <th>Cylinders</th>\n",
       "      <th>Displacement</th>\n",
       "      <th>Horsepower</th>\n",
       "      <th>Weight</th>\n",
       "      <th>Acceleration</th>\n",
       "      <th>Model Year</th>\n",
       "      <th>Origin</th>\n",
       "    </tr>\n",
       "  </thead>\n",
       "  <tbody>\n",
       "    <tr>\n",
       "      <th>145</th>\n",
       "      <td>4</td>\n",
       "      <td>83.0</td>\n",
       "      <td>61.0</td>\n",
       "      <td>2003.0</td>\n",
       "      <td>19.0</td>\n",
       "      <td>74</td>\n",
       "      <td>Germany</td>\n",
       "    </tr>\n",
       "    <tr>\n",
       "      <th>151</th>\n",
       "      <td>4</td>\n",
       "      <td>79.0</td>\n",
       "      <td>67.0</td>\n",
       "      <td>2000.0</td>\n",
       "      <td>16.0</td>\n",
       "      <td>74</td>\n",
       "      <td>USA</td>\n",
       "    </tr>\n",
       "    <tr>\n",
       "      <th>388</th>\n",
       "      <td>4</td>\n",
       "      <td>156.0</td>\n",
       "      <td>92.0</td>\n",
       "      <td>2585.0</td>\n",
       "      <td>14.5</td>\n",
       "      <td>82</td>\n",
       "      <td>India</td>\n",
       "    </tr>\n",
       "    <tr>\n",
       "      <th>48</th>\n",
       "      <td>6</td>\n",
       "      <td>250.0</td>\n",
       "      <td>88.0</td>\n",
       "      <td>3139.0</td>\n",
       "      <td>14.5</td>\n",
       "      <td>71</td>\n",
       "      <td>India</td>\n",
       "    </tr>\n",
       "    <tr>\n",
       "      <th>114</th>\n",
       "      <td>4</td>\n",
       "      <td>98.0</td>\n",
       "      <td>90.0</td>\n",
       "      <td>2265.0</td>\n",
       "      <td>15.5</td>\n",
       "      <td>73</td>\n",
       "      <td>USA</td>\n",
       "    </tr>\n",
       "    <tr>\n",
       "      <th>...</th>\n",
       "      <td>...</td>\n",
       "      <td>...</td>\n",
       "      <td>...</td>\n",
       "      <td>...</td>\n",
       "      <td>...</td>\n",
       "      <td>...</td>\n",
       "      <td>...</td>\n",
       "    </tr>\n",
       "    <tr>\n",
       "      <th>147</th>\n",
       "      <td>4</td>\n",
       "      <td>90.0</td>\n",
       "      <td>75.0</td>\n",
       "      <td>2108.0</td>\n",
       "      <td>15.5</td>\n",
       "      <td>74</td>\n",
       "      <td>USA</td>\n",
       "    </tr>\n",
       "    <tr>\n",
       "      <th>156</th>\n",
       "      <td>8</td>\n",
       "      <td>400.0</td>\n",
       "      <td>170.0</td>\n",
       "      <td>4668.0</td>\n",
       "      <td>11.5</td>\n",
       "      <td>75</td>\n",
       "      <td>India</td>\n",
       "    </tr>\n",
       "    <tr>\n",
       "      <th>395</th>\n",
       "      <td>4</td>\n",
       "      <td>135.0</td>\n",
       "      <td>84.0</td>\n",
       "      <td>2295.0</td>\n",
       "      <td>11.6</td>\n",
       "      <td>82</td>\n",
       "      <td>India</td>\n",
       "    </tr>\n",
       "    <tr>\n",
       "      <th>14</th>\n",
       "      <td>4</td>\n",
       "      <td>113.0</td>\n",
       "      <td>95.0</td>\n",
       "      <td>2372.0</td>\n",
       "      <td>15.0</td>\n",
       "      <td>70</td>\n",
       "      <td>Germany</td>\n",
       "    </tr>\n",
       "    <tr>\n",
       "      <th>362</th>\n",
       "      <td>6</td>\n",
       "      <td>146.0</td>\n",
       "      <td>120.0</td>\n",
       "      <td>2930.0</td>\n",
       "      <td>13.8</td>\n",
       "      <td>81</td>\n",
       "      <td>Germany</td>\n",
       "    </tr>\n",
       "  </tbody>\n",
       "</table>\n",
       "<p>318 rows × 7 columns</p>\n",
       "</div>"
      ],
      "text/plain": [
       "     Cylinders  Displacement  Horsepower  Weight  Acceleration  Model Year  \\\n",
       "145          4          83.0        61.0  2003.0          19.0          74   \n",
       "151          4          79.0        67.0  2000.0          16.0          74   \n",
       "388          4         156.0        92.0  2585.0          14.5          82   \n",
       "48           6         250.0        88.0  3139.0          14.5          71   \n",
       "114          4          98.0        90.0  2265.0          15.5          73   \n",
       "..         ...           ...         ...     ...           ...         ...   \n",
       "147          4          90.0        75.0  2108.0          15.5          74   \n",
       "156          8         400.0       170.0  4668.0          11.5          75   \n",
       "395          4         135.0        84.0  2295.0          11.6          82   \n",
       "14           4         113.0        95.0  2372.0          15.0          70   \n",
       "362          6         146.0       120.0  2930.0          13.8          81   \n",
       "\n",
       "      Origin  \n",
       "145  Germany  \n",
       "151      USA  \n",
       "388    India  \n",
       "48     India  \n",
       "114      USA  \n",
       "..       ...  \n",
       "147      USA  \n",
       "156    India  \n",
       "395    India  \n",
       "14   Germany  \n",
       "362  Germany  \n",
       "\n",
       "[318 rows x 7 columns]"
      ]
     },
     "execution_count": 37,
     "metadata": {},
     "output_type": "execute_result"
    }
   ],
   "source": [
    "def preprocess_origin_col(df) :\n",
    "    df['Origin'] = df['Origin'].map({1 : 'India', 2 : 'USA', 3 : \"Germany\"})\n",
    "    return df\n",
    "data_tr = preprocess_origin_col(data_features)  \n",
    "data_tr"
   ]
  },
  {
   "cell_type": "markdown",
   "id": "57f5c247",
   "metadata": {},
   "source": [
    "# 2. OneHotEncoding on Origin Column"
   ]
  },
  {
   "cell_type": "code",
   "execution_count": 61,
   "id": "a913f3d4",
   "metadata": {},
   "outputs": [
    {
     "data": {
      "text/plain": [
       "<318x3 sparse matrix of type '<class 'numpy.float64'>'\n",
       "\twith 318 stored elements in Compressed Sparse Row format>"
      ]
     },
     "execution_count": 61,
     "metadata": {},
     "output_type": "execute_result"
    }
   ],
   "source": [
    "from sklearn.preprocessing import OneHotEncoder\n",
    "ohe = OneHotEncoder()\n",
    "ohe.fit_transform(data_tr[['Origin']])"
   ]
  },
  {
   "cell_type": "code",
   "execution_count": 63,
   "id": "d0dc0e82",
   "metadata": {},
   "outputs": [
    {
     "data": {
      "text/plain": [
       "Cylinders       0\n",
       "Displacement    0\n",
       "Horsepower      4\n",
       "Weight          0\n",
       "Acceleration    0\n",
       "Model Year      0\n",
       "Origin          0\n",
       "dtype: int64"
      ]
     },
     "execution_count": 63,
     "metadata": {},
     "output_type": "execute_result"
    }
   ],
   "source": [
    "data_tr.isnull().sum()"
   ]
  },
  {
   "cell_type": "markdown",
   "id": "45bfc102",
   "metadata": {},
   "source": [
    "# 3. Handelling mising values with SimpleImputer"
   ]
  },
  {
   "cell_type": "code",
   "execution_count": 41,
   "id": "d86f3467",
   "metadata": {},
   "outputs": [
    {
     "data": {
      "text/html": [
       "<div>\n",
       "<style scoped>\n",
       "    .dataframe tbody tr th:only-of-type {\n",
       "        vertical-align: middle;\n",
       "    }\n",
       "\n",
       "    .dataframe tbody tr th {\n",
       "        vertical-align: top;\n",
       "    }\n",
       "\n",
       "    .dataframe thead th {\n",
       "        text-align: right;\n",
       "    }\n",
       "</style>\n",
       "<table border=\"1\" class=\"dataframe\">\n",
       "  <thead>\n",
       "    <tr style=\"text-align: right;\">\n",
       "      <th></th>\n",
       "      <th>Cylinders</th>\n",
       "      <th>Displacement</th>\n",
       "      <th>Horsepower</th>\n",
       "      <th>Weight</th>\n",
       "      <th>Acceleration</th>\n",
       "      <th>Model Year</th>\n",
       "    </tr>\n",
       "  </thead>\n",
       "  <tbody>\n",
       "    <tr>\n",
       "      <th>145</th>\n",
       "      <td>4</td>\n",
       "      <td>83.0</td>\n",
       "      <td>61.0</td>\n",
       "      <td>2003.0</td>\n",
       "      <td>19.0</td>\n",
       "      <td>74</td>\n",
       "    </tr>\n",
       "    <tr>\n",
       "      <th>151</th>\n",
       "      <td>4</td>\n",
       "      <td>79.0</td>\n",
       "      <td>67.0</td>\n",
       "      <td>2000.0</td>\n",
       "      <td>16.0</td>\n",
       "      <td>74</td>\n",
       "    </tr>\n",
       "    <tr>\n",
       "      <th>388</th>\n",
       "      <td>4</td>\n",
       "      <td>156.0</td>\n",
       "      <td>92.0</td>\n",
       "      <td>2585.0</td>\n",
       "      <td>14.5</td>\n",
       "      <td>82</td>\n",
       "    </tr>\n",
       "    <tr>\n",
       "      <th>48</th>\n",
       "      <td>6</td>\n",
       "      <td>250.0</td>\n",
       "      <td>88.0</td>\n",
       "      <td>3139.0</td>\n",
       "      <td>14.5</td>\n",
       "      <td>71</td>\n",
       "    </tr>\n",
       "    <tr>\n",
       "      <th>114</th>\n",
       "      <td>4</td>\n",
       "      <td>98.0</td>\n",
       "      <td>90.0</td>\n",
       "      <td>2265.0</td>\n",
       "      <td>15.5</td>\n",
       "      <td>73</td>\n",
       "    </tr>\n",
       "    <tr>\n",
       "      <th>...</th>\n",
       "      <td>...</td>\n",
       "      <td>...</td>\n",
       "      <td>...</td>\n",
       "      <td>...</td>\n",
       "      <td>...</td>\n",
       "      <td>...</td>\n",
       "    </tr>\n",
       "    <tr>\n",
       "      <th>147</th>\n",
       "      <td>4</td>\n",
       "      <td>90.0</td>\n",
       "      <td>75.0</td>\n",
       "      <td>2108.0</td>\n",
       "      <td>15.5</td>\n",
       "      <td>74</td>\n",
       "    </tr>\n",
       "    <tr>\n",
       "      <th>156</th>\n",
       "      <td>8</td>\n",
       "      <td>400.0</td>\n",
       "      <td>170.0</td>\n",
       "      <td>4668.0</td>\n",
       "      <td>11.5</td>\n",
       "      <td>75</td>\n",
       "    </tr>\n",
       "    <tr>\n",
       "      <th>395</th>\n",
       "      <td>4</td>\n",
       "      <td>135.0</td>\n",
       "      <td>84.0</td>\n",
       "      <td>2295.0</td>\n",
       "      <td>11.6</td>\n",
       "      <td>82</td>\n",
       "    </tr>\n",
       "    <tr>\n",
       "      <th>14</th>\n",
       "      <td>4</td>\n",
       "      <td>113.0</td>\n",
       "      <td>95.0</td>\n",
       "      <td>2372.0</td>\n",
       "      <td>15.0</td>\n",
       "      <td>70</td>\n",
       "    </tr>\n",
       "    <tr>\n",
       "      <th>362</th>\n",
       "      <td>6</td>\n",
       "      <td>146.0</td>\n",
       "      <td>120.0</td>\n",
       "      <td>2930.0</td>\n",
       "      <td>13.8</td>\n",
       "      <td>81</td>\n",
       "    </tr>\n",
       "  </tbody>\n",
       "</table>\n",
       "<p>318 rows × 6 columns</p>\n",
       "</div>"
      ],
      "text/plain": [
       "     Cylinders  Displacement  Horsepower  Weight  Acceleration  Model Year\n",
       "145          4          83.0        61.0  2003.0          19.0          74\n",
       "151          4          79.0        67.0  2000.0          16.0          74\n",
       "388          4         156.0        92.0  2585.0          14.5          82\n",
       "48           6         250.0        88.0  3139.0          14.5          71\n",
       "114          4          98.0        90.0  2265.0          15.5          73\n",
       "..         ...           ...         ...     ...           ...         ...\n",
       "147          4          90.0        75.0  2108.0          15.5          74\n",
       "156          8         400.0       170.0  4668.0          11.5          75\n",
       "395          4         135.0        84.0  2295.0          11.6          82\n",
       "14           4         113.0        95.0  2372.0          15.0          70\n",
       "362          6         146.0       120.0  2930.0          13.8          81\n",
       "\n",
       "[318 rows x 6 columns]"
      ]
     },
     "execution_count": 41,
     "metadata": {},
     "output_type": "execute_result"
    }
   ],
   "source": [
    "num_data = data_features.drop('Origin', axis = 1)\n",
    "num_data"
   ]
  },
  {
   "cell_type": "code",
   "execution_count": 42,
   "id": "3a53ec77",
   "metadata": {},
   "outputs": [
    {
     "data": {
      "text/plain": [
       "SimpleImputer(strategy='median')"
      ]
     },
     "execution_count": 42,
     "metadata": {},
     "output_type": "execute_result"
    }
   ],
   "source": [
    "from sklearn.impute import SimpleImputer\n",
    "imputer = SimpleImputer(strategy='median')\n",
    "imputer.fit(num_data)"
   ]
  },
  {
   "cell_type": "code",
   "execution_count": 43,
   "id": "1c37ddbb",
   "metadata": {},
   "outputs": [
    {
     "data": {
      "text/plain": [
       "array([   4. ,  146. ,   92. , 2844. ,   15.5,   76. ])"
      ]
     },
     "execution_count": 43,
     "metadata": {},
     "output_type": "execute_result"
    }
   ],
   "source": [
    "#median of all columns\n",
    "imputer.statistics_ "
   ]
  },
  {
   "cell_type": "code",
   "execution_count": 44,
   "id": "973f9087",
   "metadata": {},
   "outputs": [],
   "source": [
    "##imputing the missing values by transforming the dataframe\n",
    "num_data_tr = imputer.transform(num_data)"
   ]
  },
  {
   "cell_type": "code",
   "execution_count": null,
   "id": "0f7a8fbc",
   "metadata": {},
   "outputs": [],
   "source": []
  },
  {
   "cell_type": "markdown",
   "id": "66305d19",
   "metadata": {},
   "source": [
    "# 4. Creating custom attribute added class"
   ]
  },
  {
   "cell_type": "markdown",
   "id": "80b4a829",
   "metadata": {},
   "source": [
    "In order to make changes to datasets and create new variables, sklearn offers the BaseEstimator class. Using it, we can develop new features by defining our own class.\n",
    "\n",
    "We have created a class to add two new features as found in the EDA step above:\n",
    "\n",
    "acc_on_power — Acceleration divided by Horsepower\n",
    "acc_on_cyl — Acceleration divided by the number of Cylinders"
   ]
  },
  {
   "cell_type": "code",
   "execution_count": 20,
   "id": "d9fe6d8e",
   "metadata": {},
   "outputs": [
    {
     "data": {
      "text/html": [
       "<div>\n",
       "<style scoped>\n",
       "    .dataframe tbody tr th:only-of-type {\n",
       "        vertical-align: middle;\n",
       "    }\n",
       "\n",
       "    .dataframe tbody tr th {\n",
       "        vertical-align: top;\n",
       "    }\n",
       "\n",
       "    .dataframe thead th {\n",
       "        text-align: right;\n",
       "    }\n",
       "</style>\n",
       "<table border=\"1\" class=\"dataframe\">\n",
       "  <thead>\n",
       "    <tr style=\"text-align: right;\">\n",
       "      <th></th>\n",
       "      <th>Cylinders</th>\n",
       "      <th>Displacement</th>\n",
       "      <th>Horsepower</th>\n",
       "      <th>Weight</th>\n",
       "      <th>Acceleration</th>\n",
       "      <th>Model Year</th>\n",
       "      <th>Origin</th>\n",
       "    </tr>\n",
       "  </thead>\n",
       "  <tbody>\n",
       "    <tr>\n",
       "      <th>145</th>\n",
       "      <td>4</td>\n",
       "      <td>83.0</td>\n",
       "      <td>61.0</td>\n",
       "      <td>2003.0</td>\n",
       "      <td>19.0</td>\n",
       "      <td>74</td>\n",
       "      <td>3</td>\n",
       "    </tr>\n",
       "    <tr>\n",
       "      <th>151</th>\n",
       "      <td>4</td>\n",
       "      <td>79.0</td>\n",
       "      <td>67.0</td>\n",
       "      <td>2000.0</td>\n",
       "      <td>16.0</td>\n",
       "      <td>74</td>\n",
       "      <td>2</td>\n",
       "    </tr>\n",
       "    <tr>\n",
       "      <th>388</th>\n",
       "      <td>4</td>\n",
       "      <td>156.0</td>\n",
       "      <td>92.0</td>\n",
       "      <td>2585.0</td>\n",
       "      <td>14.5</td>\n",
       "      <td>82</td>\n",
       "      <td>1</td>\n",
       "    </tr>\n",
       "    <tr>\n",
       "      <th>48</th>\n",
       "      <td>6</td>\n",
       "      <td>250.0</td>\n",
       "      <td>88.0</td>\n",
       "      <td>3139.0</td>\n",
       "      <td>14.5</td>\n",
       "      <td>71</td>\n",
       "      <td>1</td>\n",
       "    </tr>\n",
       "    <tr>\n",
       "      <th>114</th>\n",
       "      <td>4</td>\n",
       "      <td>98.0</td>\n",
       "      <td>90.0</td>\n",
       "      <td>2265.0</td>\n",
       "      <td>15.5</td>\n",
       "      <td>73</td>\n",
       "      <td>2</td>\n",
       "    </tr>\n",
       "  </tbody>\n",
       "</table>\n",
       "</div>"
      ],
      "text/plain": [
       "     Cylinders  Displacement  Horsepower  Weight  Acceleration  Model Year  \\\n",
       "145          4          83.0        61.0  2003.0          19.0          74   \n",
       "151          4          79.0        67.0  2000.0          16.0          74   \n",
       "388          4         156.0        92.0  2585.0          14.5          82   \n",
       "48           6         250.0        88.0  3139.0          14.5          71   \n",
       "114          4          98.0        90.0  2265.0          15.5          73   \n",
       "\n",
       "     Origin  \n",
       "145       3  \n",
       "151       2  \n",
       "388       1  \n",
       "48        1  \n",
       "114       2  "
      ]
     },
     "execution_count": 20,
     "metadata": {},
     "output_type": "execute_result"
    }
   ],
   "source": [
    "num_data.head()"
   ]
  },
  {
   "cell_type": "code",
   "execution_count": 45,
   "id": "baef396b",
   "metadata": {},
   "outputs": [],
   "source": [
    "from sklearn.base import BaseEstimator, TransformerMixin\n",
    "acc_i = 4\n",
    "cyl_i = 0\n",
    "hp_i =  2\n",
    "\n",
    "class CustomAttrAdder(BaseEstimator, TransformerMixin) :\n",
    "    def __init__(self, acc_on_power = True) :\n",
    "        self.acc_on_power = acc_on_power\n",
    "    def fit(self, num_data_tr, y = None) :\n",
    "        return self #nothing else to do\n",
    "    def transform(self,num_data_tr) :\n",
    "        acc_on_cyl = num_data_tr[: , acc_i]/num_data_tr[: , cyl_i]\n",
    "        if self.acc_on_power :\n",
    "            acc_on_power = num_data_tr[:, acc_i]/num_data_tr[:, hp_i]\n",
    "            return np.c_[num_data_tr,acc_on_power,acc_on_cyl]\n",
    "        return np.c_[num_data_tr,acc_on_cyl]\n",
    "    \n",
    "attr_addr = CustomAttrAdder(acc_on_power= True)\n",
    "num_data_extra_attr = attr_addr.transform(num_data_tr)"
   ]
  },
  {
   "cell_type": "code",
   "execution_count": 46,
   "id": "16d333bc",
   "metadata": {},
   "outputs": [
    {
     "data": {
      "text/plain": [
       "array([4.0000000e+00, 8.3000000e+01, 6.1000000e+01, 2.0030000e+03,\n",
       "       1.9000000e+01, 7.4000000e+01, 3.1147541e-01, 4.7500000e+00])"
      ]
     },
     "execution_count": 46,
     "metadata": {},
     "output_type": "execute_result"
    }
   ],
   "source": [
    "num_data_extra_attr[0]"
   ]
  },
  {
   "cell_type": "markdown",
   "id": "88ff7550",
   "metadata": {},
   "source": [
    "# 5.scaling the data using standardscalar"
   ]
  },
  {
   "cell_type": "code",
   "execution_count": 47,
   "id": "40f8b62d",
   "metadata": {},
   "outputs": [
    {
     "data": {
      "text/plain": [
       "array([[-0.85657842, -1.07804475, -1.15192977, ..., -0.54436373,\n",
       "         1.70952741,  1.29565517],\n",
       "       [-0.85657842, -1.1174582 , -0.9900351 , ..., -0.54436373,\n",
       "         0.79867454,  0.666186  ],\n",
       "       [-0.85657842, -0.3587492 , -0.31547399, ...,  1.63652025,\n",
       "        -0.21906787,  0.35145142],\n",
       "       ...,\n",
       "       [-0.85657842, -0.56566984, -0.53133355, ...,  1.63652025,\n",
       "        -0.46365334, -0.25703544],\n",
       "       [-0.85657842, -0.78244384, -0.23452666, ..., -1.63480572,\n",
       "        -0.21548258,  0.45636295],\n",
       "       [ 0.32260746, -0.45728283,  0.44003446, ...,  1.36390976,\n",
       "        -0.75313354, -0.76061078]])"
      ]
     },
     "execution_count": 47,
     "metadata": {},
     "output_type": "execute_result"
    }
   ],
   "source": [
    "#scaling the data using standardscalar\n",
    "from sklearn.preprocessing import StandardScaler  \n",
    "scalar = StandardScaler()\n",
    "scalar.fit_transform(num_data_extra_attr)"
   ]
  },
  {
   "cell_type": "markdown",
   "id": "0582bc69",
   "metadata": {},
   "source": [
    "# Creating pipeline of task"
   ]
  },
  {
   "cell_type": "code",
   "execution_count": 51,
   "id": "bcceb003",
   "metadata": {},
   "outputs": [],
   "source": [
    "#using pipeline class\n",
    "from sklearn.pipeline import Pipeline\n",
    "\n",
    "#pipeline for numerical attributes\n",
    "#imputing >> attribute adding >> scaling\n",
    "\n",
    "num_pipeline = Pipeline([\n",
    "         ('imputer', SimpleImputer(strategy='median')),\n",
    "         ('attr',CustomAttrAdder()),\n",
    "         ('scale', StandardScaler())\n",
    "         ])"
   ]
  },
  {
   "cell_type": "code",
   "execution_count": 54,
   "id": "f9cfc524",
   "metadata": {},
   "outputs": [
    {
     "data": {
      "text/plain": [
       "array([-0.85657842, -1.07804475, -1.15192977, -1.17220298,  1.21586943,\n",
       "       -0.54436373,  1.70952741,  1.29565517])"
      ]
     },
     "execution_count": 54,
     "metadata": {},
     "output_type": "execute_result"
    }
   ],
   "source": [
    "num_data_tr = num_pipeline.fit_transform(num_data)\n",
    "num_data_tr[0]"
   ]
  },
  {
   "cell_type": "markdown",
   "id": "b93042f5",
   "metadata": {},
   "source": [
    "# Transforming Numerical and Categorical attributes"
   ]
  },
  {
   "cell_type": "code",
   "execution_count": 65,
   "id": "4fd6cc6f",
   "metadata": {},
   "outputs": [],
   "source": [
    "#Transforming different columns using columntransformer\n",
    "from sklearn.compose import ColumnTransformer\n",
    "\n",
    "num_col = list(num_data) #gives list of column names\n",
    "cat_col = ['Origin']\n",
    "\n",
    "#complete pipeline for both Numerical and Categorical attributes\n",
    "final_pipeline = ColumnTransformer([\n",
    "        ('num',num_pipeline, num_col),\n",
    "        ('cat', OneHotEncoder(), cat_col)\n",
    "        ])\n",
    "\n",
    "prepared_data = final_pipeline.fit_transform(data_features)"
   ]
  },
  {
   "cell_type": "code",
   "execution_count": 67,
   "id": "1b1b4ee2",
   "metadata": {},
   "outputs": [
    {
     "data": {
      "text/plain": [
       "array([-0.85657842, -1.07804475, -1.15192977, -1.17220298,  1.21586943,\n",
       "       -0.54436373,  1.70952741,  1.29565517,  1.        ,  0.        ,\n",
       "        0.        ])"
      ]
     },
     "execution_count": 67,
     "metadata": {},
     "output_type": "execute_result"
    }
   ],
   "source": [
    "prepared_data[0]"
   ]
  },
  {
   "cell_type": "code",
   "execution_count": 68,
   "id": "c230fe06",
   "metadata": {},
   "outputs": [],
   "source": [
    "import pickle\n",
    "pickle.dump(prepared_data, open('feature_data_array.pkl','wb'))"
   ]
  },
  {
   "cell_type": "code",
   "execution_count": 69,
   "id": "1e412694",
   "metadata": {},
   "outputs": [
    {
     "data": {
      "text/plain": [
       "['.ipynb_checkpoints',\n",
       " 'Auto MPG - part 1.ipynb',\n",
       " 'auto-mpg.data',\n",
       " 'Data pipeline - Part 2.ipynb',\n",
       " 'data_preparation_part1',\n",
       " 'feature_data_array.pkl']"
      ]
     },
     "execution_count": 69,
     "metadata": {},
     "output_type": "execute_result"
    }
   ],
   "source": [
    "os.listdir()"
   ]
  },
  {
   "cell_type": "code",
   "execution_count": null,
   "id": "89a68ab8",
   "metadata": {},
   "outputs": [],
   "source": []
  }
 ],
 "metadata": {
  "kernelspec": {
   "display_name": "Python 3 (ipykernel)",
   "language": "python",
   "name": "python3"
  },
  "language_info": {
   "codemirror_mode": {
    "name": "ipython",
    "version": 3
   },
   "file_extension": ".py",
   "mimetype": "text/x-python",
   "name": "python",
   "nbconvert_exporter": "python",
   "pygments_lexer": "ipython3",
   "version": "3.9.12"
  }
 },
 "nbformat": 4,
 "nbformat_minor": 5
}
