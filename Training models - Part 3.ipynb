{
 "cells": [
  {
   "cell_type": "markdown",
   "id": "e67c7ebd",
   "metadata": {},
   "source": [
    "# Selecting and Training Models\n",
    "1.Select and Train a few Algorithms(Linear Regression, Decision Tree, RandomForest)\n",
    "2.Evaluation using Mean Squared Error\n",
    "3. Model Evaluation using Cross Validation\n",
    "4. Hyperparameter Tuning using GridSearchCV\n",
    "5. Check Feature Importance\n",
    "6. Evaluate the Final System on test data\n",
    "7. Saving the Model\n"
   ]
  },
  {
   "cell_type": "code",
   "execution_count": 1,
   "id": "71b316a7",
   "metadata": {},
   "outputs": [
    {
     "data": {
      "text/plain": [
       "['.ipynb_checkpoints',\n",
       " 'auto-mpg.data',\n",
       " 'Data pipeline - Part 2.ipynb',\n",
       " 'data_preparation_part1',\n",
       " 'EDA - Part 1.ipynb',\n",
       " 'Training models - Part 3.ipynb']"
      ]
     },
     "execution_count": 1,
     "metadata": {},
     "output_type": "execute_result"
    }
   ],
   "source": [
    "import pandas as pd\n",
    "import numpy as np\n",
    "import os\n",
    "\n",
    "from sklearn.model_selection import StratifiedShuffleSplit\n",
    "from sklearn.preprocessing import OneHotEncoder\n",
    "from sklearn.pipeline import Pipeline\n",
    "from sklearn.compose import ColumnTransformer\n",
    "from sklearn.impute import SimpleImputer\n",
    "from sklearn.preprocessing import StandardScaler\n",
    "import warnings\n",
    "warnings.filterwarnings('ignore')\n",
    "os.listdir()"
   ]
  },
  {
   "cell_type": "code",
   "execution_count": 2,
   "id": "ddf851ad",
   "metadata": {},
   "outputs": [
    {
     "data": {
      "text/html": [
       "<div>\n",
       "<style scoped>\n",
       "    .dataframe tbody tr th:only-of-type {\n",
       "        vertical-align: middle;\n",
       "    }\n",
       "\n",
       "    .dataframe tbody tr th {\n",
       "        vertical-align: top;\n",
       "    }\n",
       "\n",
       "    .dataframe thead th {\n",
       "        text-align: right;\n",
       "    }\n",
       "</style>\n",
       "<table border=\"1\" class=\"dataframe\">\n",
       "  <thead>\n",
       "    <tr style=\"text-align: right;\">\n",
       "      <th></th>\n",
       "      <th>MPG</th>\n",
       "      <th>Cylinders</th>\n",
       "      <th>Displacement</th>\n",
       "      <th>Horsepower</th>\n",
       "      <th>Weight</th>\n",
       "      <th>Acceleration</th>\n",
       "      <th>Model Year</th>\n",
       "      <th>Origin</th>\n",
       "    </tr>\n",
       "  </thead>\n",
       "  <tbody>\n",
       "    <tr>\n",
       "      <th>0</th>\n",
       "      <td>18.0</td>\n",
       "      <td>8</td>\n",
       "      <td>307.0</td>\n",
       "      <td>130.0</td>\n",
       "      <td>3504.0</td>\n",
       "      <td>12.0</td>\n",
       "      <td>70</td>\n",
       "      <td>1</td>\n",
       "    </tr>\n",
       "    <tr>\n",
       "      <th>1</th>\n",
       "      <td>15.0</td>\n",
       "      <td>8</td>\n",
       "      <td>350.0</td>\n",
       "      <td>165.0</td>\n",
       "      <td>3693.0</td>\n",
       "      <td>11.5</td>\n",
       "      <td>70</td>\n",
       "      <td>1</td>\n",
       "    </tr>\n",
       "    <tr>\n",
       "      <th>2</th>\n",
       "      <td>18.0</td>\n",
       "      <td>8</td>\n",
       "      <td>318.0</td>\n",
       "      <td>150.0</td>\n",
       "      <td>3436.0</td>\n",
       "      <td>11.0</td>\n",
       "      <td>70</td>\n",
       "      <td>1</td>\n",
       "    </tr>\n",
       "    <tr>\n",
       "      <th>3</th>\n",
       "      <td>16.0</td>\n",
       "      <td>8</td>\n",
       "      <td>304.0</td>\n",
       "      <td>150.0</td>\n",
       "      <td>3433.0</td>\n",
       "      <td>12.0</td>\n",
       "      <td>70</td>\n",
       "      <td>1</td>\n",
       "    </tr>\n",
       "    <tr>\n",
       "      <th>4</th>\n",
       "      <td>17.0</td>\n",
       "      <td>8</td>\n",
       "      <td>302.0</td>\n",
       "      <td>140.0</td>\n",
       "      <td>3449.0</td>\n",
       "      <td>10.5</td>\n",
       "      <td>70</td>\n",
       "      <td>1</td>\n",
       "    </tr>\n",
       "  </tbody>\n",
       "</table>\n",
       "</div>"
      ],
      "text/plain": [
       "    MPG  Cylinders  Displacement  Horsepower  Weight  Acceleration  \\\n",
       "0  18.0          8         307.0       130.0  3504.0          12.0   \n",
       "1  15.0          8         350.0       165.0  3693.0          11.5   \n",
       "2  18.0          8         318.0       150.0  3436.0          11.0   \n",
       "3  16.0          8         304.0       150.0  3433.0          12.0   \n",
       "4  17.0          8         302.0       140.0  3449.0          10.5   \n",
       "\n",
       "   Model Year  Origin  \n",
       "0          70       1  \n",
       "1          70       1  \n",
       "2          70       1  \n",
       "3          70       1  \n",
       "4          70       1  "
      ]
     },
     "execution_count": 2,
     "metadata": {},
     "output_type": "execute_result"
    }
   ],
   "source": [
    "col = ['MPG','Cylinders','Displacement','Horsepower','Weight','Acceleration','Model Year','Origin']\n",
    "df = pd.read_csv('auto-mpg.data',names = col, comment ='\\t', na_values = '?',skipinitialspace= True, sep = ' ')\n",
    "df.head()"
   ]
  },
  {
   "cell_type": "code",
   "execution_count": 3,
   "id": "064757bf",
   "metadata": {},
   "outputs": [
    {
     "name": "stdout",
     "output_type": "stream",
     "text": [
      "<class 'pandas.core.frame.DataFrame'>\n",
      "RangeIndex: 398 entries, 0 to 397\n",
      "Data columns (total 8 columns):\n",
      " #   Column        Non-Null Count  Dtype  \n",
      "---  ------        --------------  -----  \n",
      " 0   MPG           398 non-null    float64\n",
      " 1   Cylinders     398 non-null    int64  \n",
      " 2   Displacement  398 non-null    float64\n",
      " 3   Horsepower    392 non-null    float64\n",
      " 4   Weight        398 non-null    float64\n",
      " 5   Acceleration  398 non-null    float64\n",
      " 6   Model Year    398 non-null    int64  \n",
      " 7   Origin        398 non-null    int64  \n",
      "dtypes: float64(5), int64(3)\n",
      "memory usage: 25.0 KB\n"
     ]
    }
   ],
   "source": [
    "df.info()"
   ]
  },
  {
   "cell_type": "code",
   "execution_count": 4,
   "id": "25762edc",
   "metadata": {},
   "outputs": [],
   "source": [
    "data = df.copy()"
   ]
  },
  {
   "cell_type": "markdown",
   "id": "46d16936",
   "metadata": {},
   "source": [
    "# shuffle splitting of data and \n",
    "getting categorical data in proportion in train and test data with the help of StratifiedShuffleSplit"
   ]
  },
  {
   "cell_type": "code",
   "execution_count": 5,
   "id": "6ee25691",
   "metadata": {},
   "outputs": [
    {
     "data": {
      "text/plain": [
       "<generator object BaseShuffleSplit.split at 0x000001F8FE72CB30>"
      ]
     },
     "execution_count": 5,
     "metadata": {},
     "output_type": "execute_result"
    }
   ],
   "source": [
    "#shuffle splitting of data and \n",
    "#getting categorical data in proportion in train and test data with the help of StratifiedShuffleSplit\n",
    "\n",
    "strat = StratifiedShuffleSplit(n_splits= 1, test_size = 0.2, random_state= 42)\n",
    "strat.split(data, data.Cylinders)"
   ]
  },
  {
   "cell_type": "code",
   "execution_count": 41,
   "id": "7d6d949d",
   "metadata": {},
   "outputs": [],
   "source": [
    "for train_index, test_index in strat.split(data, data.Cylinders):\n",
    "    train_set = data.loc[train_index]\n",
    "    test_set = data.loc[test_index]"
   ]
  },
  {
   "cell_type": "code",
   "execution_count": 7,
   "id": "241e6da1",
   "metadata": {},
   "outputs": [
    {
     "data": {
      "text/html": [
       "<div>\n",
       "<style scoped>\n",
       "    .dataframe tbody tr th:only-of-type {\n",
       "        vertical-align: middle;\n",
       "    }\n",
       "\n",
       "    .dataframe tbody tr th {\n",
       "        vertical-align: top;\n",
       "    }\n",
       "\n",
       "    .dataframe thead th {\n",
       "        text-align: right;\n",
       "    }\n",
       "</style>\n",
       "<table border=\"1\" class=\"dataframe\">\n",
       "  <thead>\n",
       "    <tr style=\"text-align: right;\">\n",
       "      <th></th>\n",
       "      <th>MPG</th>\n",
       "      <th>Cylinders</th>\n",
       "      <th>Displacement</th>\n",
       "      <th>Horsepower</th>\n",
       "      <th>Weight</th>\n",
       "      <th>Acceleration</th>\n",
       "      <th>Model Year</th>\n",
       "      <th>Origin</th>\n",
       "    </tr>\n",
       "  </thead>\n",
       "  <tbody>\n",
       "    <tr>\n",
       "      <th>145</th>\n",
       "      <td>32.0</td>\n",
       "      <td>4</td>\n",
       "      <td>83.0</td>\n",
       "      <td>61.0</td>\n",
       "      <td>2003.0</td>\n",
       "      <td>19.0</td>\n",
       "      <td>74</td>\n",
       "      <td>3</td>\n",
       "    </tr>\n",
       "    <tr>\n",
       "      <th>151</th>\n",
       "      <td>31.0</td>\n",
       "      <td>4</td>\n",
       "      <td>79.0</td>\n",
       "      <td>67.0</td>\n",
       "      <td>2000.0</td>\n",
       "      <td>16.0</td>\n",
       "      <td>74</td>\n",
       "      <td>2</td>\n",
       "    </tr>\n",
       "    <tr>\n",
       "      <th>388</th>\n",
       "      <td>26.0</td>\n",
       "      <td>4</td>\n",
       "      <td>156.0</td>\n",
       "      <td>92.0</td>\n",
       "      <td>2585.0</td>\n",
       "      <td>14.5</td>\n",
       "      <td>82</td>\n",
       "      <td>1</td>\n",
       "    </tr>\n",
       "    <tr>\n",
       "      <th>48</th>\n",
       "      <td>18.0</td>\n",
       "      <td>6</td>\n",
       "      <td>250.0</td>\n",
       "      <td>88.0</td>\n",
       "      <td>3139.0</td>\n",
       "      <td>14.5</td>\n",
       "      <td>71</td>\n",
       "      <td>1</td>\n",
       "    </tr>\n",
       "    <tr>\n",
       "      <th>114</th>\n",
       "      <td>26.0</td>\n",
       "      <td>4</td>\n",
       "      <td>98.0</td>\n",
       "      <td>90.0</td>\n",
       "      <td>2265.0</td>\n",
       "      <td>15.5</td>\n",
       "      <td>73</td>\n",
       "      <td>2</td>\n",
       "    </tr>\n",
       "    <tr>\n",
       "      <th>...</th>\n",
       "      <td>...</td>\n",
       "      <td>...</td>\n",
       "      <td>...</td>\n",
       "      <td>...</td>\n",
       "      <td>...</td>\n",
       "      <td>...</td>\n",
       "      <td>...</td>\n",
       "      <td>...</td>\n",
       "    </tr>\n",
       "    <tr>\n",
       "      <th>147</th>\n",
       "      <td>24.0</td>\n",
       "      <td>4</td>\n",
       "      <td>90.0</td>\n",
       "      <td>75.0</td>\n",
       "      <td>2108.0</td>\n",
       "      <td>15.5</td>\n",
       "      <td>74</td>\n",
       "      <td>2</td>\n",
       "    </tr>\n",
       "    <tr>\n",
       "      <th>156</th>\n",
       "      <td>16.0</td>\n",
       "      <td>8</td>\n",
       "      <td>400.0</td>\n",
       "      <td>170.0</td>\n",
       "      <td>4668.0</td>\n",
       "      <td>11.5</td>\n",
       "      <td>75</td>\n",
       "      <td>1</td>\n",
       "    </tr>\n",
       "    <tr>\n",
       "      <th>395</th>\n",
       "      <td>32.0</td>\n",
       "      <td>4</td>\n",
       "      <td>135.0</td>\n",
       "      <td>84.0</td>\n",
       "      <td>2295.0</td>\n",
       "      <td>11.6</td>\n",
       "      <td>82</td>\n",
       "      <td>1</td>\n",
       "    </tr>\n",
       "    <tr>\n",
       "      <th>14</th>\n",
       "      <td>24.0</td>\n",
       "      <td>4</td>\n",
       "      <td>113.0</td>\n",
       "      <td>95.0</td>\n",
       "      <td>2372.0</td>\n",
       "      <td>15.0</td>\n",
       "      <td>70</td>\n",
       "      <td>3</td>\n",
       "    </tr>\n",
       "    <tr>\n",
       "      <th>362</th>\n",
       "      <td>24.2</td>\n",
       "      <td>6</td>\n",
       "      <td>146.0</td>\n",
       "      <td>120.0</td>\n",
       "      <td>2930.0</td>\n",
       "      <td>13.8</td>\n",
       "      <td>81</td>\n",
       "      <td>3</td>\n",
       "    </tr>\n",
       "  </tbody>\n",
       "</table>\n",
       "<p>318 rows × 8 columns</p>\n",
       "</div>"
      ],
      "text/plain": [
       "      MPG  Cylinders  Displacement  Horsepower  Weight  Acceleration  \\\n",
       "145  32.0          4          83.0        61.0  2003.0          19.0   \n",
       "151  31.0          4          79.0        67.0  2000.0          16.0   \n",
       "388  26.0          4         156.0        92.0  2585.0          14.5   \n",
       "48   18.0          6         250.0        88.0  3139.0          14.5   \n",
       "114  26.0          4          98.0        90.0  2265.0          15.5   \n",
       "..    ...        ...           ...         ...     ...           ...   \n",
       "147  24.0          4          90.0        75.0  2108.0          15.5   \n",
       "156  16.0          8         400.0       170.0  4668.0          11.5   \n",
       "395  32.0          4         135.0        84.0  2295.0          11.6   \n",
       "14   24.0          4         113.0        95.0  2372.0          15.0   \n",
       "362  24.2          6         146.0       120.0  2930.0          13.8   \n",
       "\n",
       "     Model Year  Origin  \n",
       "145          74       3  \n",
       "151          74       2  \n",
       "388          82       1  \n",
       "48           71       1  \n",
       "114          73       2  \n",
       "..          ...     ...  \n",
       "147          74       2  \n",
       "156          75       1  \n",
       "395          82       1  \n",
       "14           70       3  \n",
       "362          81       3  \n",
       "\n",
       "[318 rows x 8 columns]"
      ]
     },
     "execution_count": 7,
     "metadata": {},
     "output_type": "execute_result"
    }
   ],
   "source": [
    "train_set"
   ]
  },
  {
   "cell_type": "code",
   "execution_count": 8,
   "id": "fe68d693",
   "metadata": {},
   "outputs": [],
   "source": [
    "#Seperating Features and Labels\n",
    "data_features = train_set.drop('MPG',axis = 1)\n",
    "data_target = train_set[['MPG']]"
   ]
  },
  {
   "cell_type": "code",
   "execution_count": 9,
   "id": "b95dc0b6",
   "metadata": {},
   "outputs": [],
   "source": [
    "# Mapping Origin column\n",
    "def preprocess_origin_col(df) :\n",
    "    df['Origin'] = df['Origin'].map({1 : 'India',2 : 'USA', 3: 'Germany'})\n",
    "    return df"
   ]
  },
  {
   "cell_type": "code",
   "execution_count": 10,
   "id": "1f9055ee",
   "metadata": {},
   "outputs": [],
   "source": [
    "#Adding custom attributes\n",
    "from sklearn.base import BaseEstimator, TransformerMixin\n",
    "acc_i = 4\n",
    "cyl_i = 0\n",
    "hp_i =  2\n",
    "\n",
    "class CustomAttrAdder(BaseEstimator, TransformerMixin) :\n",
    "    def __init__(self, acc_on_power = True) :\n",
    "        self.acc_on_power = acc_on_power\n",
    "    def fit(self, x , y = None) :\n",
    "        return self #nothing else to do\n",
    "    def transform(self,x) :\n",
    "        acc_on_cyl = x[: , acc_i]/x[: , cyl_i]\n",
    "        if self.acc_on_power :\n",
    "            acc_on_power = x[:, acc_i]/x[:, hp_i]\n",
    "            return np.c_[x,acc_on_power,acc_on_cyl]\n",
    "        return np.c_[x,acc_on_cyl]\n",
    "    \n",
    "\n",
    "\n"
   ]
  },
  {
   "cell_type": "code",
   "execution_count": 11,
   "id": "74fa6282",
   "metadata": {},
   "outputs": [],
   "source": [
    "def num_pipeline_transformer(data) :\n",
    "\n",
    "    #pipeline for numerical attributes\n",
    "    #imputing >> attribute adding >> scaling\n",
    "    num_data = data.drop('Origin', axis = 1)\n",
    "\n",
    "    num_pipeline = Pipeline([\n",
    "         ('imputer', SimpleImputer(strategy='median')),\n",
    "         ('attr',CustomAttrAdder()),\n",
    "         ('scale', StandardScaler())\n",
    "         ])\n",
    "    return num_pipeline, num_data\n",
    "\n",
    "def pipeline_transformer(data) :\n",
    " #coloumn transformer to each column\n",
    "    cat_data = ['Origin']\n",
    "    num_pipeline , num_data = num_pipeline_transformer(data)\n",
    "    full_pipeline = ColumnTransformer([\n",
    "        ('num', num_pipeline, list(num_data)),\n",
    "        ('ohe', OneHotEncoder(), cat_data)\n",
    "        ])\n",
    "    prepared_pipeline = full_pipeline.fit_transform(data)\n",
    "    return prepared_pipeline\n",
    "    "
   ]
  },
  {
   "cell_type": "code",
   "execution_count": 12,
   "id": "48cf5124",
   "metadata": {},
   "outputs": [],
   "source": [
    "#finalize our data in the 2 steps only\n",
    "preprocess_origin = preprocess_origin_col(data_features)\n",
    "prepared_data = pipeline_transformer(preprocess_origin)"
   ]
  },
  {
   "cell_type": "code",
   "execution_count": 13,
   "id": "d9da153e",
   "metadata": {},
   "outputs": [
    {
     "data": {
      "text/plain": [
       "array([-0.85657842, -1.07804475, -1.15192977, -1.17220298,  1.21586943,\n",
       "       -0.54436373,  1.70952741,  1.29565517,  1.        ,  0.        ,\n",
       "        0.        ])"
      ]
     },
     "execution_count": 13,
     "metadata": {},
     "output_type": "execute_result"
    }
   ],
   "source": [
    "prepared_data[0]"
   ]
  },
  {
   "cell_type": "markdown",
   "id": "b4743736",
   "metadata": {},
   "source": [
    "# Selection of ML models\n",
    "1. Linear Regression\n",
    "2. Decision Tree\n",
    "3. Random Forest\n",
    "4. SVM regressor"
   ]
  },
  {
   "cell_type": "code",
   "execution_count": 14,
   "id": "58bab549",
   "metadata": {},
   "outputs": [
    {
     "data": {
      "text/plain": [
       "LinearRegression()"
      ]
     },
     "execution_count": 14,
     "metadata": {},
     "output_type": "execute_result"
    }
   ],
   "source": [
    "#linear Regression\n",
    "from sklearn.linear_model import LinearRegression\n",
    "lr = LinearRegression()\n",
    "lr.fit(prepared_data, data_target)"
   ]
  },
  {
   "cell_type": "code",
   "execution_count": 15,
   "id": "ba8a5b40",
   "metadata": {},
   "outputs": [
    {
     "name": "stdout",
     "output_type": "stream",
     "text": [
      "Linear Regression Prediction is \n",
      " [[30.87084533]\n",
      " [28.8942444 ]\n",
      " [29.18645219]\n",
      " [18.38508216]\n",
      " [24.4280997 ]\n",
      " [36.18469432]\n",
      " [13.60551672]\n",
      " [24.65953039]\n",
      " [17.26766558]\n",
      " [19.38905099]\n",
      " [35.92755441]\n",
      " [16.45468724]\n",
      " [20.28204604]\n",
      " [35.02573532]\n",
      " [33.65240691]\n",
      " [11.59232805]\n",
      " [24.4514598 ]\n",
      " [26.37971264]\n",
      " [30.84711092]\n",
      " [22.2452215 ]\n",
      " [22.28715891]\n",
      " [12.90717675]\n",
      " [26.87113214]\n",
      " [20.14368333]\n",
      " [12.70989269]\n",
      " [16.38274284]\n",
      " [26.5104452 ]\n",
      " [28.18498378]\n",
      " [15.81148568]\n",
      " [13.63278255]\n",
      " [31.73294078]\n",
      " [15.94760202]\n",
      " [26.58408924]\n",
      " [26.02732585]\n",
      " [19.04426774]\n",
      " [23.33090062]\n",
      " [28.34023775]\n",
      " [19.17203363]\n",
      " [25.09467495]\n",
      " [28.1435552 ]\n",
      " [11.27625745]\n",
      " [18.57828147]\n",
      " [19.66093927]\n",
      " [24.77875193]\n",
      " [32.13270977]\n",
      " [25.39252605]\n",
      " [27.25586437]\n",
      " [29.46045033]\n",
      " [23.86950707]\n",
      " [33.48782217]\n",
      " [30.75444731]\n",
      " [33.35219367]\n",
      " [15.27668031]\n",
      " [30.77045717]\n",
      " [20.11194899]\n",
      " [17.52541891]\n",
      " [23.68997615]\n",
      " [24.52375464]\n",
      " [29.47727946]\n",
      " [25.82115371]\n",
      " [27.1329692 ]\n",
      " [21.02810991]\n",
      " [25.58557306]\n",
      " [19.23905262]\n",
      " [14.91756398]\n",
      " [28.36886205]\n",
      " [27.53455171]\n",
      " [32.35675588]\n",
      " [28.79856925]\n",
      " [19.96404469]\n",
      " [35.05582682]\n",
      " [27.35326794]\n",
      " [20.2882934 ]\n",
      " [15.75953147]\n",
      " [22.34466677]\n",
      " [17.25647983]\n",
      " [31.55665107]\n",
      " [20.53114385]\n",
      " [34.18969673]\n",
      " [24.80860576]\n",
      " [20.23770801]\n",
      " [19.99885274]\n",
      " [30.08183943]\n",
      " [24.41303364]\n",
      " [35.86613232]\n",
      " [34.66943863]\n",
      " [24.17634097]\n",
      " [12.76037371]\n",
      " [22.12606185]\n",
      " [24.32122904]\n",
      " [24.13048175]\n",
      " [12.98220806]\n",
      " [15.08130642]\n",
      " [33.38766278]\n",
      " [35.65649079]\n",
      " [14.57024602]\n",
      " [30.30644886]\n",
      " [24.854565  ]\n",
      " [28.48112263]\n",
      " [23.54993843]\n",
      " [20.87528526]\n",
      " [16.01311992]\n",
      " [29.1502372 ]\n",
      " [19.89251341]\n",
      " [22.82535117]\n",
      " [16.25152963]\n",
      " [15.88756267]\n",
      " [25.29977109]\n",
      " [18.04055782]\n",
      " [25.73513929]\n",
      " [28.08926443]\n",
      " [21.00354493]\n",
      " [17.50092818]\n",
      " [15.63104928]\n",
      " [24.61260562]\n",
      " [37.82130032]\n",
      " [30.11079192]\n",
      " [20.65349406]\n",
      " [26.13160542]\n",
      " [29.04310976]\n",
      " [18.01375861]\n",
      " [21.29154424]\n",
      " [30.61796894]\n",
      " [31.18085976]\n",
      " [17.52306582]\n",
      " [16.4730084 ]\n",
      " [11.28492439]\n",
      " [15.79845419]\n",
      " [19.85562986]\n",
      " [18.2545599 ]\n",
      " [23.38131293]\n",
      " [20.36828546]\n",
      " [ 8.80522664]\n",
      " [29.67269141]\n",
      " [20.05841999]\n",
      " [18.552562  ]\n",
      " [24.52883262]\n",
      " [11.70648785]\n",
      " [29.16731278]\n",
      " [30.04784566]\n",
      " [20.8385651 ]\n",
      " [29.35599747]\n",
      " [21.44827127]\n",
      " [11.2463751 ]\n",
      " [14.59295778]\n",
      " [28.61119738]\n",
      " [26.2568455 ]\n",
      " [22.78215557]\n",
      " [19.16083568]\n",
      " [23.19983741]\n",
      " [24.12783905]\n",
      " [17.37306748]\n",
      " [19.42769594]\n",
      " [16.21462782]\n",
      " [18.05735035]\n",
      " [31.09411315]\n",
      " [16.64747968]\n",
      " [16.86046903]\n",
      " [26.10445418]\n",
      " [20.70241258]\n",
      " [20.61421332]\n",
      " [24.33911495]\n",
      " [29.66878289]\n",
      " [24.59224245]\n",
      " [20.16135055]\n",
      " [19.84058086]\n",
      " [11.86764748]\n",
      " [35.22963903]\n",
      " [21.85743801]\n",
      " [18.85424622]\n",
      " [34.18649775]\n",
      " [35.29891934]\n",
      " [17.05066683]\n",
      " [26.3890129 ]\n",
      " [29.6880013 ]\n",
      " [25.23899208]\n",
      " [ 8.76762895]\n",
      " [22.61057969]\n",
      " [ 9.79487198]\n",
      " [15.99682776]\n",
      " [34.24665686]\n",
      " [23.89341393]\n",
      " [12.04447566]\n",
      " [29.12530463]\n",
      " [30.41796005]\n",
      " [24.11946503]\n",
      " [ 5.61405179]\n",
      " [20.74735807]\n",
      " [22.67145415]\n",
      " [23.82809719]\n",
      " [33.66177015]\n",
      " [12.17689605]\n",
      " [14.60204603]\n",
      " [33.63112201]\n",
      " [33.20519171]\n",
      " [33.03896146]\n",
      " [27.65027941]\n",
      " [23.09274312]\n",
      " [28.08778584]\n",
      " [21.16405219]\n",
      " [25.81962909]\n",
      " [17.03811088]\n",
      " [30.33907242]\n",
      " [20.21826836]\n",
      " [24.7618027 ]\n",
      " [24.82199956]\n",
      " [23.66725315]\n",
      " [29.24963823]\n",
      " [16.54957031]\n",
      " [32.06278504]\n",
      " [38.49729069]\n",
      " [28.482989  ]\n",
      " [16.38262473]\n",
      " [19.66496853]\n",
      " [25.60699442]\n",
      " [12.31648776]\n",
      " [33.08948953]\n",
      " [16.04712167]\n",
      " [10.26202325]\n",
      " [21.82893902]\n",
      " [18.06572726]\n",
      " [26.6676777 ]\n",
      " [36.09866721]\n",
      " [29.97100997]\n",
      " [22.92361869]\n",
      " [34.07089676]\n",
      " [23.79304188]\n",
      " [16.87462801]\n",
      " [30.80913896]\n",
      " [31.68632725]\n",
      " [30.85541029]\n",
      " [29.12114193]\n",
      " [37.43760041]\n",
      " [20.2364484 ]\n",
      " [13.53371297]\n",
      " [12.54357334]\n",
      " [20.32879155]\n",
      " [13.11240136]\n",
      " [31.01854541]\n",
      " [20.25565313]\n",
      " [13.04197762]\n",
      " [32.34576627]\n",
      " [15.30741534]\n",
      " [16.32174712]\n",
      " [26.07840379]\n",
      " [26.27963871]\n",
      " [14.14470744]\n",
      " [20.17965832]\n",
      " [35.37457932]\n",
      " [23.74214031]\n",
      " [32.12405081]\n",
      " [27.87777436]\n",
      " [19.20172379]\n",
      " [12.95462032]\n",
      " [19.9682838 ]\n",
      " [12.00623913]\n",
      " [21.21729287]\n",
      " [15.3884092 ]\n",
      " [28.09158107]\n",
      " [11.5724645 ]\n",
      " [11.01083553]\n",
      " [17.94435881]\n",
      " [23.09637085]\n",
      " [23.64629669]\n",
      " [14.29087961]\n",
      " [35.39308565]\n",
      " [27.69047763]\n",
      " [16.61712808]\n",
      " [28.06533755]\n",
      " [18.53895797]\n",
      " [17.49262997]\n",
      " [13.72823282]\n",
      " [15.41154931]\n",
      " [27.08976538]\n",
      " [24.14232439]\n",
      " [33.6269066 ]\n",
      " [34.30997238]\n",
      " [22.48004903]\n",
      " [22.04697241]\n",
      " [26.7789232 ]\n",
      " [27.56854925]\n",
      " [10.92418178]\n",
      " [34.70538154]\n",
      " [37.92384795]\n",
      " [13.94726305]\n",
      " [32.64523387]\n",
      " [26.7696582 ]\n",
      " [12.6961348 ]\n",
      " [24.17937473]\n",
      " [15.79705431]\n",
      " [21.31999391]\n",
      " [34.06358358]\n",
      " [34.98472839]\n",
      " [31.71189814]\n",
      " [29.244833  ]\n",
      " [32.473112  ]\n",
      " [12.84033672]\n",
      " [20.77014407]\n",
      " [28.27220333]\n",
      " [ 9.06892994]\n",
      " [20.58112531]\n",
      " [39.01798139]\n",
      " [25.32495216]\n",
      " [22.11001809]\n",
      " [27.64528385]\n",
      " [22.81183824]\n",
      " [15.01538908]\n",
      " [29.82217876]\n",
      " [28.74093113]\n",
      " [15.63906469]\n",
      " [18.32261414]\n",
      " [18.08771435]\n",
      " [18.99330404]\n",
      " [27.35947107]\n",
      " [13.88476185]\n",
      " [31.76901526]\n",
      " [22.47920591]\n",
      " [27.43103579]]\n"
     ]
    }
   ],
   "source": [
    "#testing prediction\n",
    "sample_feature = data_features.iloc[ :5]\n",
    "sample_target = data_target.iloc[:5]\n",
    "\n",
    "#preprocess_origin = preprocess_origin_col(sample_feature)\n",
    "prepare_data = pipeline_transformer(sample_feature)\n",
    "\n",
    "print('Linear Regression Prediction is \\n', lr.predict(prepared_data))"
   ]
  },
  {
   "cell_type": "code",
   "execution_count": 16,
   "id": "807b4d6e",
   "metadata": {},
   "outputs": [
    {
     "name": "stdout",
     "output_type": "stream",
     "text": [
      "Actual Labels of samples: \n",
      " [[32.]\n",
      " [31.]\n",
      " [26.]\n",
      " [18.]\n",
      " [26.]]\n"
     ]
    }
   ],
   "source": [
    "print(\"Actual Labels of samples: \\n\", sample_target.values)"
   ]
  },
  {
   "cell_type": "markdown",
   "id": "9757d252",
   "metadata": {},
   "source": [
    "# Mean Squared Error"
   ]
  },
  {
   "cell_type": "code",
   "execution_count": 17,
   "id": "2a9e4681",
   "metadata": {},
   "outputs": [
    {
     "data": {
      "text/plain": [
       "2.9590402225760872"
      ]
     },
     "execution_count": 17,
     "metadata": {},
     "output_type": "execute_result"
    }
   ],
   "source": [
    "from sklearn.metrics import mean_squared_error\n",
    "lr_predicted = lr.predict(prepared_data)\n",
    "actual = sample_target.values\n",
    "mse = mean_squared_error(lr_predicted,data_target)\n",
    "rmse = np.sqrt(mse)\n",
    "rmse"
   ]
  },
  {
   "cell_type": "markdown",
   "id": "7a53a03d",
   "metadata": {},
   "source": [
    "# Decision Tree"
   ]
  },
  {
   "cell_type": "code",
   "execution_count": 18,
   "id": "d8ce7ba7",
   "metadata": {},
   "outputs": [
    {
     "data": {
      "text/plain": [
       "DecisionTreeRegressor()"
      ]
     },
     "execution_count": 18,
     "metadata": {},
     "output_type": "execute_result"
    }
   ],
   "source": [
    "from sklearn.tree import DecisionTreeRegressor\n",
    "dt = DecisionTreeRegressor()\n",
    "dt.fit(prepared_data, data_target)"
   ]
  },
  {
   "cell_type": "code",
   "execution_count": 19,
   "id": "23a88caf",
   "metadata": {},
   "outputs": [
    {
     "data": {
      "text/plain": [
       "0.0"
      ]
     },
     "execution_count": 19,
     "metadata": {},
     "output_type": "execute_result"
    }
   ],
   "source": [
    "pred = dt.predict(prepared_data)\n",
    "dt_mse = mean_squared_error(pred,data_target)\n",
    "rmse = np.sqrt(dt_mse)\n",
    "rmse"
   ]
  },
  {
   "cell_type": "markdown",
   "id": "3ce5a58c",
   "metadata": {},
   "source": [
    "But no model is perfect, this means that our model has overfit the data to a great extent.\n",
    "\n",
    "We won't be touching out test data until we finalize our model. So, how do we check for what's happening?"
   ]
  },
  {
   "cell_type": "markdown",
   "id": "c5722bcf",
   "metadata": {},
   "source": [
    "# Model Evaluation using Cross Validation\n",
    "Scikit-Learn’s K-fold cross-validation feature randomly splits the training set into K distinct subsets called folds, then it trains and evaluates the model K times, picking a different fold for evaluation every time and training on the other K-1 folds.\n",
    "\n",
    "The result is an array containing the K evaluation scores:"
   ]
  },
  {
   "cell_type": "code",
   "execution_count": 20,
   "id": "36f48cfb",
   "metadata": {},
   "outputs": [],
   "source": [
    "from sklearn.model_selection import cross_val_score\n",
    "\n",
    "scores = cross_val_score(dt, prepared_data, data_target, scoring = 'neg_mean_squared_error', cv = 10)\n",
    "\n",
    "dt_score = np.sqrt(-scores)"
   ]
  },
  {
   "cell_type": "code",
   "execution_count": 21,
   "id": "ea2b2492",
   "metadata": {},
   "outputs": [
    {
     "data": {
      "text/plain": [
       "array([2.97000631, 3.04400025, 3.07393274, 3.07774268, 2.22696542,\n",
       "       2.94475169, 3.66891503, 5.02882317, 4.12451366, 2.5790721 ])"
      ]
     },
     "execution_count": 21,
     "metadata": {},
     "output_type": "execute_result"
    }
   ],
   "source": [
    "dt_score"
   ]
  },
  {
   "cell_type": "code",
   "execution_count": 22,
   "id": "c07d86da",
   "metadata": {},
   "outputs": [
    {
     "data": {
      "text/plain": [
       "3.2738723052435668"
      ]
     },
     "execution_count": 22,
     "metadata": {},
     "output_type": "execute_result"
    }
   ],
   "source": [
    "dt_score.mean()"
   ]
  },
  {
   "cell_type": "code",
   "execution_count": 23,
   "id": "33d76521",
   "metadata": {},
   "outputs": [],
   "source": [
    "#for linear regression\n",
    "scores = cross_val_score(lr, prepared_data, data_target, scoring = 'neg_mean_squared_error', cv = 10)\n",
    "\n",
    "lr_score = np.sqrt(-scores)"
   ]
  },
  {
   "cell_type": "code",
   "execution_count": 24,
   "id": "25289a75",
   "metadata": {},
   "outputs": [
    {
     "data": {
      "text/plain": [
       "3.0757081793709324"
      ]
     },
     "execution_count": 24,
     "metadata": {},
     "output_type": "execute_result"
    }
   ],
   "source": [
    "lr_score.mean()"
   ]
  },
  {
   "cell_type": "markdown",
   "id": "2dc51849",
   "metadata": {},
   "source": [
    "# Random Forest Model"
   ]
  },
  {
   "cell_type": "code",
   "execution_count": 25,
   "id": "516b6b60",
   "metadata": {},
   "outputs": [
    {
     "data": {
      "text/plain": [
       "3.0757081793709324"
      ]
     },
     "execution_count": 25,
     "metadata": {},
     "output_type": "execute_result"
    }
   ],
   "source": [
    "from sklearn.ensemble import RandomForestRegressor\n",
    "\n",
    "rf = RandomForestRegressor()\n",
    "rf.fit(prepared_data, data_target)\n",
    "\n",
    "rf_scores = cross_val_score(rf, prepared_data, data_target, scoring = 'neg_mean_squared_error', cv = 10)\n",
    "\n",
    "rf_score = np.sqrt(-scores)\n",
    "rf_score.mean()\n"
   ]
  },
  {
   "cell_type": "markdown",
   "id": "93db5d5c",
   "metadata": {},
   "source": [
    "# Support Vector Machine"
   ]
  },
  {
   "cell_type": "code",
   "execution_count": 26,
   "id": "8a8e8ca5",
   "metadata": {},
   "outputs": [
    {
     "data": {
      "text/plain": [
       "3.086591620802819"
      ]
     },
     "execution_count": 26,
     "metadata": {},
     "output_type": "execute_result"
    }
   ],
   "source": [
    "from sklearn.svm import SVR\n",
    "\n",
    "svm = SVR(kernel='linear')\n",
    "\n",
    "svm.fit(prepared_data, data_target)\n",
    "\n",
    "svm_scores = cross_val_score(svm, prepared_data, data_target, scoring= 'neg_mean_squared_error' , cv =10 )\n",
    "\n",
    "svm_score = np.sqrt(-svm_scores)\n",
    "svm_score.mean()\n",
    "\n"
   ]
  },
  {
   "cell_type": "markdown",
   "id": "42ef5e91",
   "metadata": {},
   "source": [
    "# After concluding RMSE from various ML algorithm we selected Random forest regressor for our model"
   ]
  },
  {
   "cell_type": "markdown",
   "id": "d5e4c754",
   "metadata": {},
   "source": [
    "# Fine-Tuning Hyperparameters\n",
    "After testing all the models, you’ll find that RandomForestRegressor has performed the best but it still needs to be fine-tuned.\n",
    "\n",
    "A model is like a radio station with a lot of knobs to handle and tune. Now, you can either tune all these knobs manually or provide a range of values/combinations that you want to test.\n",
    "\n",
    "We use GridSearchCV to find out the best combination of hyperparameters for the RandomForest model:"
   ]
  },
  {
   "cell_type": "code",
   "execution_count": 27,
   "id": "f12b1bea",
   "metadata": {},
   "outputs": [],
   "source": [
    "from sklearn.model_selection import GridSearchCV"
   ]
  },
  {
   "cell_type": "code",
   "execution_count": 28,
   "id": "0ab03c98",
   "metadata": {},
   "outputs": [
    {
     "data": {
      "text/plain": [
       "GridSearchCV(cv=10, estimator=RandomForestRegressor(),\n",
       "             param_grid=[{'max_features': [2, 4, 6, 8],\n",
       "                          'n_estimators': [3, 10, 30]},\n",
       "                         {'bootstrap': [False], 'max_features': [2, 4, 3],\n",
       "                          'n_estimators': [3, 10]}],\n",
       "             return_train_score=True, scoring='neg_mean_squared_error')"
      ]
     },
     "execution_count": 28,
     "metadata": {},
     "output_type": "execute_result"
    }
   ],
   "source": [
    "param_grid = [{'n_estimators' : [3,10,30], 'max_features' :[2,4,6,8]},\n",
    "             {'bootstrap': [False],'n_estimators' : [3,10],'max_features' :[2,4,3] }]\n",
    "grid_search = GridSearchCV(rf, param_grid, scoring = 'neg_mean_squared_error', return_train_score = True, cv = 10 )\n",
    "grid_search.fit(prepared_data,data_target)"
   ]
  },
  {
   "cell_type": "code",
   "execution_count": 29,
   "id": "a30e26d6",
   "metadata": {},
   "outputs": [
    {
     "data": {
      "text/plain": [
       "{'max_features': 6, 'n_estimators': 30}"
      ]
     },
     "execution_count": 29,
     "metadata": {},
     "output_type": "execute_result"
    }
   ],
   "source": [
    "grid_search.best_params_"
   ]
  },
  {
   "cell_type": "code",
   "execution_count": 30,
   "id": "67d11d96",
   "metadata": {
    "scrolled": true
   },
   "outputs": [
    {
     "name": "stdout",
     "output_type": "stream",
     "text": [
      "3.3285873639737527 {'max_features': 2, 'n_estimators': 3}\n",
      "2.8736346179253043 {'max_features': 2, 'n_estimators': 10}\n",
      "2.9007393857592554 {'max_features': 2, 'n_estimators': 30}\n",
      "3.3017015950777666 {'max_features': 4, 'n_estimators': 3}\n",
      "2.7539660733321525 {'max_features': 4, 'n_estimators': 10}\n",
      "2.7399652344303744 {'max_features': 4, 'n_estimators': 30}\n",
      "3.05266475342023 {'max_features': 6, 'n_estimators': 3}\n",
      "2.782055849184892 {'max_features': 6, 'n_estimators': 10}\n",
      "2.7039125781516566 {'max_features': 6, 'n_estimators': 30}\n",
      "2.9831582591147807 {'max_features': 8, 'n_estimators': 3}\n",
      "2.9338548557343676 {'max_features': 8, 'n_estimators': 10}\n",
      "2.7672077288254537 {'max_features': 8, 'n_estimators': 30}\n",
      "3.2004060352278083 {'bootstrap': False, 'max_features': 2, 'n_estimators': 3}\n",
      "2.908311126559703 {'bootstrap': False, 'max_features': 2, 'n_estimators': 10}\n",
      "3.1664332822882586 {'bootstrap': False, 'max_features': 4, 'n_estimators': 3}\n",
      "2.8397933605537498 {'bootstrap': False, 'max_features': 4, 'n_estimators': 10}\n",
      "3.2636462027521227 {'bootstrap': False, 'max_features': 3, 'n_estimators': 3}\n",
      "2.7469981746943684 {'bootstrap': False, 'max_features': 3, 'n_estimators': 10}\n"
     ]
    }
   ],
   "source": [
    "cv_scores = grid_search.cv_results_\n",
    "for mean_score , params in zip(cv_scores['mean_test_score'],cv_scores['params']):\n",
    "    print(np.sqrt(-mean_score), params)"
   ]
  },
  {
   "cell_type": "markdown",
   "id": "be57998c",
   "metadata": {},
   "source": [
    "# Checking feature importance"
   ]
  },
  {
   "cell_type": "code",
   "execution_count": 33,
   "id": "bbcb61d0",
   "metadata": {},
   "outputs": [
    {
     "data": {
      "text/plain": [
       "array([0.15642082, 0.22057712, 0.16216312, 0.22054461, 0.01766554,\n",
       "       0.10987796, 0.04467523, 0.05776908, 0.00260542, 0.00439351,\n",
       "       0.00330759])"
      ]
     },
     "execution_count": 33,
     "metadata": {},
     "output_type": "execute_result"
    }
   ],
   "source": [
    "feature_imp = grid_search.best_estimator_.feature_importances_\n",
    "feature_imp\n"
   ]
  },
  {
   "cell_type": "code",
   "execution_count": 40,
   "id": "95803bd6",
   "metadata": {},
   "outputs": [
    {
     "data": {
      "text/plain": [
       "[('acc_on_power', 0.04467522718086139),\n",
       " ('acc_on_cyl', 0.057769075226421454),\n",
       " ('Weight', 0.2205446125454955),\n",
       " ('Model Year', 0.10987796326688817),\n",
       " ('Horsepower', 0.16216312280299816),\n",
       " ('Displacement', 0.22057711664334564),\n",
       " ('Cylinders', 0.15642081585173764),\n",
       " ('Acceleration', 0.017665542995828693)]"
      ]
     },
     "execution_count": 40,
     "metadata": {},
     "output_type": "execute_result"
    }
   ],
   "source": [
    "extra_attr = ['acc_on_power', 'acc_on_cyl']\n",
    "num_attr = list(data_features.select_dtypes(['int64','float64']))\n",
    "attr = num_attr + extra_attr\n",
    "sorted(zip(attr,feature_imp),reverse=True)"
   ]
  },
  {
   "cell_type": "markdown",
   "id": "5f20e08e",
   "metadata": {},
   "source": [
    "# Evaluating the entire system on test data"
   ]
  },
  {
   "cell_type": "code",
   "execution_count": 42,
   "id": "bde943ff",
   "metadata": {},
   "outputs": [
    {
     "data": {
      "text/html": [
       "<div>\n",
       "<style scoped>\n",
       "    .dataframe tbody tr th:only-of-type {\n",
       "        vertical-align: middle;\n",
       "    }\n",
       "\n",
       "    .dataframe tbody tr th {\n",
       "        vertical-align: top;\n",
       "    }\n",
       "\n",
       "    .dataframe thead th {\n",
       "        text-align: right;\n",
       "    }\n",
       "</style>\n",
       "<table border=\"1\" class=\"dataframe\">\n",
       "  <thead>\n",
       "    <tr style=\"text-align: right;\">\n",
       "      <th></th>\n",
       "      <th>MPG</th>\n",
       "      <th>Cylinders</th>\n",
       "      <th>Displacement</th>\n",
       "      <th>Horsepower</th>\n",
       "      <th>Weight</th>\n",
       "      <th>Acceleration</th>\n",
       "      <th>Model Year</th>\n",
       "      <th>Origin</th>\n",
       "    </tr>\n",
       "  </thead>\n",
       "  <tbody>\n",
       "    <tr>\n",
       "      <th>128</th>\n",
       "      <td>15.0</td>\n",
       "      <td>6</td>\n",
       "      <td>250.0</td>\n",
       "      <td>100.0</td>\n",
       "      <td>3336.0</td>\n",
       "      <td>17.0</td>\n",
       "      <td>74</td>\n",
       "      <td>1</td>\n",
       "    </tr>\n",
       "    <tr>\n",
       "      <th>100</th>\n",
       "      <td>18.0</td>\n",
       "      <td>6</td>\n",
       "      <td>250.0</td>\n",
       "      <td>88.0</td>\n",
       "      <td>3021.0</td>\n",
       "      <td>16.5</td>\n",
       "      <td>73</td>\n",
       "      <td>1</td>\n",
       "    </tr>\n",
       "    <tr>\n",
       "      <th>330</th>\n",
       "      <td>40.9</td>\n",
       "      <td>4</td>\n",
       "      <td>85.0</td>\n",
       "      <td>NaN</td>\n",
       "      <td>1835.0</td>\n",
       "      <td>17.3</td>\n",
       "      <td>80</td>\n",
       "      <td>2</td>\n",
       "    </tr>\n",
       "    <tr>\n",
       "      <th>57</th>\n",
       "      <td>24.0</td>\n",
       "      <td>4</td>\n",
       "      <td>113.0</td>\n",
       "      <td>95.0</td>\n",
       "      <td>2278.0</td>\n",
       "      <td>15.5</td>\n",
       "      <td>72</td>\n",
       "      <td>3</td>\n",
       "    </tr>\n",
       "    <tr>\n",
       "      <th>160</th>\n",
       "      <td>17.0</td>\n",
       "      <td>6</td>\n",
       "      <td>231.0</td>\n",
       "      <td>110.0</td>\n",
       "      <td>3907.0</td>\n",
       "      <td>21.0</td>\n",
       "      <td>75</td>\n",
       "      <td>1</td>\n",
       "    </tr>\n",
       "    <tr>\n",
       "      <th>...</th>\n",
       "      <td>...</td>\n",
       "      <td>...</td>\n",
       "      <td>...</td>\n",
       "      <td>...</td>\n",
       "      <td>...</td>\n",
       "      <td>...</td>\n",
       "      <td>...</td>\n",
       "      <td>...</td>\n",
       "    </tr>\n",
       "    <tr>\n",
       "      <th>266</th>\n",
       "      <td>30.0</td>\n",
       "      <td>4</td>\n",
       "      <td>98.0</td>\n",
       "      <td>68.0</td>\n",
       "      <td>2155.0</td>\n",
       "      <td>16.5</td>\n",
       "      <td>78</td>\n",
       "      <td>1</td>\n",
       "    </tr>\n",
       "    <tr>\n",
       "      <th>389</th>\n",
       "      <td>22.0</td>\n",
       "      <td>6</td>\n",
       "      <td>232.0</td>\n",
       "      <td>112.0</td>\n",
       "      <td>2835.0</td>\n",
       "      <td>14.7</td>\n",
       "      <td>82</td>\n",
       "      <td>1</td>\n",
       "    </tr>\n",
       "    <tr>\n",
       "      <th>217</th>\n",
       "      <td>30.0</td>\n",
       "      <td>4</td>\n",
       "      <td>111.0</td>\n",
       "      <td>80.0</td>\n",
       "      <td>2155.0</td>\n",
       "      <td>14.8</td>\n",
       "      <td>77</td>\n",
       "      <td>1</td>\n",
       "    </tr>\n",
       "    <tr>\n",
       "      <th>66</th>\n",
       "      <td>17.0</td>\n",
       "      <td>8</td>\n",
       "      <td>304.0</td>\n",
       "      <td>150.0</td>\n",
       "      <td>3672.0</td>\n",
       "      <td>11.5</td>\n",
       "      <td>72</td>\n",
       "      <td>1</td>\n",
       "    </tr>\n",
       "    <tr>\n",
       "      <th>240</th>\n",
       "      <td>30.5</td>\n",
       "      <td>4</td>\n",
       "      <td>97.0</td>\n",
       "      <td>78.0</td>\n",
       "      <td>2190.0</td>\n",
       "      <td>14.1</td>\n",
       "      <td>77</td>\n",
       "      <td>2</td>\n",
       "    </tr>\n",
       "  </tbody>\n",
       "</table>\n",
       "<p>80 rows × 8 columns</p>\n",
       "</div>"
      ],
      "text/plain": [
       "      MPG  Cylinders  Displacement  Horsepower  Weight  Acceleration  \\\n",
       "128  15.0          6         250.0       100.0  3336.0          17.0   \n",
       "100  18.0          6         250.0        88.0  3021.0          16.5   \n",
       "330  40.9          4          85.0         NaN  1835.0          17.3   \n",
       "57   24.0          4         113.0        95.0  2278.0          15.5   \n",
       "160  17.0          6         231.0       110.0  3907.0          21.0   \n",
       "..    ...        ...           ...         ...     ...           ...   \n",
       "266  30.0          4          98.0        68.0  2155.0          16.5   \n",
       "389  22.0          6         232.0       112.0  2835.0          14.7   \n",
       "217  30.0          4         111.0        80.0  2155.0          14.8   \n",
       "66   17.0          8         304.0       150.0  3672.0          11.5   \n",
       "240  30.5          4          97.0        78.0  2190.0          14.1   \n",
       "\n",
       "     Model Year  Origin  \n",
       "128          74       1  \n",
       "100          73       1  \n",
       "330          80       2  \n",
       "57           72       3  \n",
       "160          75       1  \n",
       "..          ...     ...  \n",
       "266          78       1  \n",
       "389          82       1  \n",
       "217          77       1  \n",
       "66           72       1  \n",
       "240          77       2  \n",
       "\n",
       "[80 rows x 8 columns]"
      ]
     },
     "execution_count": 42,
     "metadata": {},
     "output_type": "execute_result"
    }
   ],
   "source": [
    "test_set"
   ]
  },
  {
   "cell_type": "code",
   "execution_count": 48,
   "id": "f1de17da",
   "metadata": {},
   "outputs": [],
   "source": [
    "x_test = test_set.drop('MPG',axis = 1) \n",
    "y_test = test_set[['MPG']]  #()\n",
    "\n",
    "x_test_preprocessed= preprocess_origin_col(x_test)\n",
    "x_test_prepared = pipeline_transformer(x_test_preprocessed)\n",
    "\n",
    "final_model = grid_search.best_estimator_\n",
    "\n",
    "pred = final_model.predict(x_test_prepared)\n",
    "mse = mean_squared_error(y_test,pred)\n",
    "rmse = np.sqrt(mse)"
   ]
  },
  {
   "cell_type": "code",
   "execution_count": 49,
   "id": "a63c2349",
   "metadata": {},
   "outputs": [
    {
     "data": {
      "text/plain": [
       "2.9441253181359137"
      ]
     },
     "execution_count": 49,
     "metadata": {},
     "output_type": "execute_result"
    }
   ],
   "source": [
    "rmse"
   ]
  },
  {
   "cell_type": "markdown",
   "id": "1fe43791",
   "metadata": {},
   "source": [
    "# Creating funtion to cover this entire flow"
   ]
  },
  {
   "cell_type": "code",
   "execution_count": 50,
   "id": "8055ec25",
   "metadata": {},
   "outputs": [],
   "source": [
    "def predict_mpg(config,model) :\n",
    "    if type(config)== dict :\n",
    "        df =  pd.DataFrame(config)\n",
    "    else :\n",
    "        df = config\n",
    "    \n",
    "    preprocess = preprocess_origin_col(df)\n",
    "    final_prepare = pipeline_transformer( preprocess)\n",
    "    pred = model.predict(final_prepare)\n",
    "    return pred"
   ]
  },
  {
   "cell_type": "code",
   "execution_count": 12,
   "id": "70c4408f",
   "metadata": {},
   "outputs": [],
   "source": [
    "#cheking on random sample\n",
    "vehical_config = {\n",
    "    'Cylinders': [4, 6, 8],\n",
    "    'Displacement': [155.0, 160.0, 165.5],\n",
    "    'Horsepower': [93.0, 130.0, 98.0],\n",
    "    'Weight': [2500.0, 3150.0, 2600.0],\n",
    "    'Acceleration': [15.0, 14.0, 16.0],\n",
    "    'Model Year': [81, 80, 78],\n",
    "    'Origin': [3, 2, 1]\n",
    "}"
   ]
  },
  {
   "cell_type": "code",
   "execution_count": 52,
   "id": "a117c305",
   "metadata": {},
   "outputs": [
    {
     "data": {
      "text/plain": [
       "array([32.19666667, 17.53      , 20.20666667])"
      ]
     },
     "execution_count": 52,
     "metadata": {},
     "output_type": "execute_result"
    }
   ],
   "source": [
    "predict_mpg(vehical_config,final_model)"
   ]
  },
  {
   "cell_type": "markdown",
   "id": "9da5498a",
   "metadata": {},
   "source": [
    "# Saving The model"
   ]
  },
  {
   "cell_type": "code",
   "execution_count": 53,
   "id": "e855b3aa",
   "metadata": {},
   "outputs": [],
   "source": [
    "import pickle\n",
    "pickle.dump(final_model,open('model.bin','wb'))"
   ]
  },
  {
   "cell_type": "code",
   "execution_count": 54,
   "id": "3d756467",
   "metadata": {},
   "outputs": [],
   "source": [
    "model = pickle.load(open('model.bin','rb'))"
   ]
  },
  {
   "cell_type": "code",
   "execution_count": 55,
   "id": "f6a48229",
   "metadata": {},
   "outputs": [
    {
     "data": {
      "text/plain": [
       "array([32.19666667, 17.53      , 20.20666667])"
      ]
     },
     "execution_count": 55,
     "metadata": {},
     "output_type": "execute_result"
    }
   ],
   "source": [
    "predict_mpg(vehical_config,model)"
   ]
  },
  {
   "cell_type": "code",
   "execution_count": 14,
   "id": "3b94bbf6",
   "metadata": {},
   "outputs": [
    {
     "data": {
      "text/plain": [
       "'{\\n  \"My Prediction \": [\\n    32.19666666666665, \\n    17.529999999999998, \\n    20.206666666666663\\n  ]\\n}'"
      ]
     },
     "execution_count": 14,
     "metadata": {},
     "output_type": "execute_result"
    }
   ],
   "source": [
    "import requests\n",
    "\n",
    "url = 'http://127.0.0.1:9696/'\n",
    "r = requests.post(url, json = vehical_config)\n",
    "r.text.strip()"
   ]
  },
  {
   "cell_type": "code",
   "execution_count": null,
   "id": "5ce83402",
   "metadata": {},
   "outputs": [],
   "source": []
  }
 ],
 "metadata": {
  "kernelspec": {
   "display_name": "Python 3 (ipykernel)",
   "language": "python",
   "name": "python3"
  },
  "language_info": {
   "codemirror_mode": {
    "name": "ipython",
    "version": 3
   },
   "file_extension": ".py",
   "mimetype": "text/x-python",
   "name": "python",
   "nbconvert_exporter": "python",
   "pygments_lexer": "ipython3",
   "version": "3.9.12"
  }
 },
 "nbformat": 4,
 "nbformat_minor": 5
}
